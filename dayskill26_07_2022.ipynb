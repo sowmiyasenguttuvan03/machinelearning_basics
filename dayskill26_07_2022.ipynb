{
  "nbformat": 4,
  "nbformat_minor": 0,
  "metadata": {
    "colab": {
      "name": "dayskill26.07.2022.ipynb",
      "provenance": []
    },
    "kernelspec": {
      "name": "python3",
      "display_name": "Python 3"
    },
    "language_info": {
      "name": "python"
    }
  },
  "cells": [
    {
      "cell_type": "markdown",
      "source": [
        "**MOUNT DRIVE**"
      ],
      "metadata": {
        "id": "b9YWi-P9tjD6"
      }
    },
    {
      "cell_type": "code",
      "execution_count": 86,
      "metadata": {
        "colab": {
          "base_uri": "https://localhost:8080/"
        },
        "id": "OT6OHVnyRQBF",
        "outputId": "719c5d5b-be5f-47bb-a9c4-dfca5d6cfd96"
      },
      "outputs": [
        {
          "output_type": "stream",
          "name": "stdout",
          "text": [
            "Drive already mounted at /content/drive; to attempt to forcibly remount, call drive.mount(\"/content/drive\", force_remount=True).\n"
          ]
        }
      ],
      "source": [
        "from google.colab import drive\n",
        "drive.mount('/content/drive')"
      ]
    },
    {
      "cell_type": "code",
      "source": [
        "import pandas as pd\n",
        "import numpy as np"
      ],
      "metadata": {
        "id": "otxnILCcS-Ub"
      },
      "execution_count": 87,
      "outputs": []
    },
    {
      "cell_type": "code",
      "source": [
        "header = ['Region','Age','Income','Online Shopper']"
      ],
      "metadata": {
        "id": "4F-fxHjFTCI0"
      },
      "execution_count": 88,
      "outputs": []
    },
    {
      "cell_type": "code",
      "source": [
        "df = pd.read_csv(\"/content/drive/MyDrive/Colab Notebooks/DataPreprocessing.csv\", header=None, names=header)"
      ],
      "metadata": {
        "id": "xUXf70krTWzz"
      },
      "execution_count": 89,
      "outputs": []
    },
    {
      "cell_type": "markdown",
      "source": [
        "**REPLACE THE MISSING AS NAN**"
      ],
      "metadata": {
        "id": "RcB1HWG5jG_N"
      }
    },
    {
      "cell_type": "code",
      "source": [
        "df = df.replace('?', np.nan)\n",
        "df"
      ],
      "metadata": {
        "colab": {
          "base_uri": "https://localhost:8080/",
          "height": 394
        },
        "id": "ysdEWsTOTqiM",
        "outputId": "9b058131-66e5-45ee-acce-9c60703568c6"
      },
      "execution_count": 90,
      "outputs": [
        {
          "output_type": "execute_result",
          "data": {
            "text/plain": [
              "    Region  Age    Income  Online Shopper\n",
              "0   Region  Age    Income  Online Shopper\n",
              "1    India   49  86400.00              No\n",
              "2   Brazil   32  57600.00             Yes\n",
              "3      USA   35  64800.00              No\n",
              "4   Brazil   43  73200.00              No\n",
              "5      USA   45       NaN             Yes\n",
              "6    India   40  69600.00             Yes\n",
              "7   Brazil  NaN  62400.00              No\n",
              "8    India   53  94800.00             Yes\n",
              "9      USA   55  99600.00              No\n",
              "10   India   42  80400.00             Yes"
            ],
            "text/html": [
              "\n",
              "  <div id=\"df-eddb5dbf-63af-43d4-a891-c6cd486f6a5a\">\n",
              "    <div class=\"colab-df-container\">\n",
              "      <div>\n",
              "<style scoped>\n",
              "    .dataframe tbody tr th:only-of-type {\n",
              "        vertical-align: middle;\n",
              "    }\n",
              "\n",
              "    .dataframe tbody tr th {\n",
              "        vertical-align: top;\n",
              "    }\n",
              "\n",
              "    .dataframe thead th {\n",
              "        text-align: right;\n",
              "    }\n",
              "</style>\n",
              "<table border=\"1\" class=\"dataframe\">\n",
              "  <thead>\n",
              "    <tr style=\"text-align: right;\">\n",
              "      <th></th>\n",
              "      <th>Region</th>\n",
              "      <th>Age</th>\n",
              "      <th>Income</th>\n",
              "      <th>Online Shopper</th>\n",
              "    </tr>\n",
              "  </thead>\n",
              "  <tbody>\n",
              "    <tr>\n",
              "      <th>0</th>\n",
              "      <td>Region</td>\n",
              "      <td>Age</td>\n",
              "      <td>Income</td>\n",
              "      <td>Online Shopper</td>\n",
              "    </tr>\n",
              "    <tr>\n",
              "      <th>1</th>\n",
              "      <td>India</td>\n",
              "      <td>49</td>\n",
              "      <td>86400.00</td>\n",
              "      <td>No</td>\n",
              "    </tr>\n",
              "    <tr>\n",
              "      <th>2</th>\n",
              "      <td>Brazil</td>\n",
              "      <td>32</td>\n",
              "      <td>57600.00</td>\n",
              "      <td>Yes</td>\n",
              "    </tr>\n",
              "    <tr>\n",
              "      <th>3</th>\n",
              "      <td>USA</td>\n",
              "      <td>35</td>\n",
              "      <td>64800.00</td>\n",
              "      <td>No</td>\n",
              "    </tr>\n",
              "    <tr>\n",
              "      <th>4</th>\n",
              "      <td>Brazil</td>\n",
              "      <td>43</td>\n",
              "      <td>73200.00</td>\n",
              "      <td>No</td>\n",
              "    </tr>\n",
              "    <tr>\n",
              "      <th>5</th>\n",
              "      <td>USA</td>\n",
              "      <td>45</td>\n",
              "      <td>NaN</td>\n",
              "      <td>Yes</td>\n",
              "    </tr>\n",
              "    <tr>\n",
              "      <th>6</th>\n",
              "      <td>India</td>\n",
              "      <td>40</td>\n",
              "      <td>69600.00</td>\n",
              "      <td>Yes</td>\n",
              "    </tr>\n",
              "    <tr>\n",
              "      <th>7</th>\n",
              "      <td>Brazil</td>\n",
              "      <td>NaN</td>\n",
              "      <td>62400.00</td>\n",
              "      <td>No</td>\n",
              "    </tr>\n",
              "    <tr>\n",
              "      <th>8</th>\n",
              "      <td>India</td>\n",
              "      <td>53</td>\n",
              "      <td>94800.00</td>\n",
              "      <td>Yes</td>\n",
              "    </tr>\n",
              "    <tr>\n",
              "      <th>9</th>\n",
              "      <td>USA</td>\n",
              "      <td>55</td>\n",
              "      <td>99600.00</td>\n",
              "      <td>No</td>\n",
              "    </tr>\n",
              "    <tr>\n",
              "      <th>10</th>\n",
              "      <td>India</td>\n",
              "      <td>42</td>\n",
              "      <td>80400.00</td>\n",
              "      <td>Yes</td>\n",
              "    </tr>\n",
              "  </tbody>\n",
              "</table>\n",
              "</div>\n",
              "      <button class=\"colab-df-convert\" onclick=\"convertToInteractive('df-eddb5dbf-63af-43d4-a891-c6cd486f6a5a')\"\n",
              "              title=\"Convert this dataframe to an interactive table.\"\n",
              "              style=\"display:none;\">\n",
              "        \n",
              "  <svg xmlns=\"http://www.w3.org/2000/svg\" height=\"24px\"viewBox=\"0 0 24 24\"\n",
              "       width=\"24px\">\n",
              "    <path d=\"M0 0h24v24H0V0z\" fill=\"none\"/>\n",
              "    <path d=\"M18.56 5.44l.94 2.06.94-2.06 2.06-.94-2.06-.94-.94-2.06-.94 2.06-2.06.94zm-11 1L8.5 8.5l.94-2.06 2.06-.94-2.06-.94L8.5 2.5l-.94 2.06-2.06.94zm10 10l.94 2.06.94-2.06 2.06-.94-2.06-.94-.94-2.06-.94 2.06-2.06.94z\"/><path d=\"M17.41 7.96l-1.37-1.37c-.4-.4-.92-.59-1.43-.59-.52 0-1.04.2-1.43.59L10.3 9.45l-7.72 7.72c-.78.78-.78 2.05 0 2.83L4 21.41c.39.39.9.59 1.41.59.51 0 1.02-.2 1.41-.59l7.78-7.78 2.81-2.81c.8-.78.8-2.07 0-2.86zM5.41 20L4 18.59l7.72-7.72 1.47 1.35L5.41 20z\"/>\n",
              "  </svg>\n",
              "      </button>\n",
              "      \n",
              "  <style>\n",
              "    .colab-df-container {\n",
              "      display:flex;\n",
              "      flex-wrap:wrap;\n",
              "      gap: 12px;\n",
              "    }\n",
              "\n",
              "    .colab-df-convert {\n",
              "      background-color: #E8F0FE;\n",
              "      border: none;\n",
              "      border-radius: 50%;\n",
              "      cursor: pointer;\n",
              "      display: none;\n",
              "      fill: #1967D2;\n",
              "      height: 32px;\n",
              "      padding: 0 0 0 0;\n",
              "      width: 32px;\n",
              "    }\n",
              "\n",
              "    .colab-df-convert:hover {\n",
              "      background-color: #E2EBFA;\n",
              "      box-shadow: 0px 1px 2px rgba(60, 64, 67, 0.3), 0px 1px 3px 1px rgba(60, 64, 67, 0.15);\n",
              "      fill: #174EA6;\n",
              "    }\n",
              "\n",
              "    [theme=dark] .colab-df-convert {\n",
              "      background-color: #3B4455;\n",
              "      fill: #D2E3FC;\n",
              "    }\n",
              "\n",
              "    [theme=dark] .colab-df-convert:hover {\n",
              "      background-color: #434B5C;\n",
              "      box-shadow: 0px 1px 3px 1px rgba(0, 0, 0, 0.15);\n",
              "      filter: drop-shadow(0px 1px 2px rgba(0, 0, 0, 0.3));\n",
              "      fill: #FFFFFF;\n",
              "    }\n",
              "  </style>\n",
              "\n",
              "      <script>\n",
              "        const buttonEl =\n",
              "          document.querySelector('#df-eddb5dbf-63af-43d4-a891-c6cd486f6a5a button.colab-df-convert');\n",
              "        buttonEl.style.display =\n",
              "          google.colab.kernel.accessAllowed ? 'block' : 'none';\n",
              "\n",
              "        async function convertToInteractive(key) {\n",
              "          const element = document.querySelector('#df-eddb5dbf-63af-43d4-a891-c6cd486f6a5a');\n",
              "          const dataTable =\n",
              "            await google.colab.kernel.invokeFunction('convertToInteractive',\n",
              "                                                     [key], {});\n",
              "          if (!dataTable) return;\n",
              "\n",
              "          const docLinkHtml = 'Like what you see? Visit the ' +\n",
              "            '<a target=\"_blank\" href=https://colab.research.google.com/notebooks/data_table.ipynb>data table notebook</a>'\n",
              "            + ' to learn more about interactive tables.';\n",
              "          element.innerHTML = '';\n",
              "          dataTable['output_type'] = 'display_data';\n",
              "          await google.colab.output.renderOutput(dataTable, element);\n",
              "          const docLink = document.createElement('div');\n",
              "          docLink.innerHTML = docLinkHtml;\n",
              "          element.appendChild(docLink);\n",
              "        }\n",
              "      </script>\n",
              "    </div>\n",
              "  </div>\n",
              "  "
            ]
          },
          "metadata": {},
          "execution_count": 90
        }
      ]
    },
    {
      "cell_type": "code",
      "source": [
        "print(df['Income'])"
      ],
      "metadata": {
        "colab": {
          "base_uri": "https://localhost:8080/"
        },
        "id": "AZ24Klpjqbmc",
        "outputId": "3bc5036f-9458-407d-d82a-11119f4b4371"
      },
      "execution_count": 123,
      "outputs": [
        {
          "output_type": "stream",
          "name": "stdout",
          "text": [
            "0       Income\n",
            "1     86400.00\n",
            "2     57600.00\n",
            "3     64800.00\n",
            "4     73200.00\n",
            "6     69600.00\n",
            "8     94800.00\n",
            "9     99600.00\n",
            "10    80400.00\n",
            "Name: Income, dtype: object\n"
          ]
        }
      ]
    },
    {
      "cell_type": "markdown",
      "source": [
        "**DROP THE NAN**"
      ],
      "metadata": {
        "id": "op1l0frBoluH"
      }
    },
    {
      "cell_type": "code",
      "source": [
        "df = df.dropna(axis=0, how=\"any\")\n",
        "df"
      ],
      "metadata": {
        "colab": {
          "base_uri": "https://localhost:8080/",
          "height": 332
        },
        "id": "GuacdR5pTyvk",
        "outputId": "3e1ec9fd-148d-4c41-f921-5973b9ed7dc4"
      },
      "execution_count": 91,
      "outputs": [
        {
          "output_type": "execute_result",
          "data": {
            "text/plain": [
              "    Region  Age    Income  Online Shopper\n",
              "0   Region  Age    Income  Online Shopper\n",
              "1    India   49  86400.00              No\n",
              "2   Brazil   32  57600.00             Yes\n",
              "3      USA   35  64800.00              No\n",
              "4   Brazil   43  73200.00              No\n",
              "6    India   40  69600.00             Yes\n",
              "8    India   53  94800.00             Yes\n",
              "9      USA   55  99600.00              No\n",
              "10   India   42  80400.00             Yes"
            ],
            "text/html": [
              "\n",
              "  <div id=\"df-49e95a60-ac78-4db0-a719-5e9e30916eb5\">\n",
              "    <div class=\"colab-df-container\">\n",
              "      <div>\n",
              "<style scoped>\n",
              "    .dataframe tbody tr th:only-of-type {\n",
              "        vertical-align: middle;\n",
              "    }\n",
              "\n",
              "    .dataframe tbody tr th {\n",
              "        vertical-align: top;\n",
              "    }\n",
              "\n",
              "    .dataframe thead th {\n",
              "        text-align: right;\n",
              "    }\n",
              "</style>\n",
              "<table border=\"1\" class=\"dataframe\">\n",
              "  <thead>\n",
              "    <tr style=\"text-align: right;\">\n",
              "      <th></th>\n",
              "      <th>Region</th>\n",
              "      <th>Age</th>\n",
              "      <th>Income</th>\n",
              "      <th>Online Shopper</th>\n",
              "    </tr>\n",
              "  </thead>\n",
              "  <tbody>\n",
              "    <tr>\n",
              "      <th>0</th>\n",
              "      <td>Region</td>\n",
              "      <td>Age</td>\n",
              "      <td>Income</td>\n",
              "      <td>Online Shopper</td>\n",
              "    </tr>\n",
              "    <tr>\n",
              "      <th>1</th>\n",
              "      <td>India</td>\n",
              "      <td>49</td>\n",
              "      <td>86400.00</td>\n",
              "      <td>No</td>\n",
              "    </tr>\n",
              "    <tr>\n",
              "      <th>2</th>\n",
              "      <td>Brazil</td>\n",
              "      <td>32</td>\n",
              "      <td>57600.00</td>\n",
              "      <td>Yes</td>\n",
              "    </tr>\n",
              "    <tr>\n",
              "      <th>3</th>\n",
              "      <td>USA</td>\n",
              "      <td>35</td>\n",
              "      <td>64800.00</td>\n",
              "      <td>No</td>\n",
              "    </tr>\n",
              "    <tr>\n",
              "      <th>4</th>\n",
              "      <td>Brazil</td>\n",
              "      <td>43</td>\n",
              "      <td>73200.00</td>\n",
              "      <td>No</td>\n",
              "    </tr>\n",
              "    <tr>\n",
              "      <th>6</th>\n",
              "      <td>India</td>\n",
              "      <td>40</td>\n",
              "      <td>69600.00</td>\n",
              "      <td>Yes</td>\n",
              "    </tr>\n",
              "    <tr>\n",
              "      <th>8</th>\n",
              "      <td>India</td>\n",
              "      <td>53</td>\n",
              "      <td>94800.00</td>\n",
              "      <td>Yes</td>\n",
              "    </tr>\n",
              "    <tr>\n",
              "      <th>9</th>\n",
              "      <td>USA</td>\n",
              "      <td>55</td>\n",
              "      <td>99600.00</td>\n",
              "      <td>No</td>\n",
              "    </tr>\n",
              "    <tr>\n",
              "      <th>10</th>\n",
              "      <td>India</td>\n",
              "      <td>42</td>\n",
              "      <td>80400.00</td>\n",
              "      <td>Yes</td>\n",
              "    </tr>\n",
              "  </tbody>\n",
              "</table>\n",
              "</div>\n",
              "      <button class=\"colab-df-convert\" onclick=\"convertToInteractive('df-49e95a60-ac78-4db0-a719-5e9e30916eb5')\"\n",
              "              title=\"Convert this dataframe to an interactive table.\"\n",
              "              style=\"display:none;\">\n",
              "        \n",
              "  <svg xmlns=\"http://www.w3.org/2000/svg\" height=\"24px\"viewBox=\"0 0 24 24\"\n",
              "       width=\"24px\">\n",
              "    <path d=\"M0 0h24v24H0V0z\" fill=\"none\"/>\n",
              "    <path d=\"M18.56 5.44l.94 2.06.94-2.06 2.06-.94-2.06-.94-.94-2.06-.94 2.06-2.06.94zm-11 1L8.5 8.5l.94-2.06 2.06-.94-2.06-.94L8.5 2.5l-.94 2.06-2.06.94zm10 10l.94 2.06.94-2.06 2.06-.94-2.06-.94-.94-2.06-.94 2.06-2.06.94z\"/><path d=\"M17.41 7.96l-1.37-1.37c-.4-.4-.92-.59-1.43-.59-.52 0-1.04.2-1.43.59L10.3 9.45l-7.72 7.72c-.78.78-.78 2.05 0 2.83L4 21.41c.39.39.9.59 1.41.59.51 0 1.02-.2 1.41-.59l7.78-7.78 2.81-2.81c.8-.78.8-2.07 0-2.86zM5.41 20L4 18.59l7.72-7.72 1.47 1.35L5.41 20z\"/>\n",
              "  </svg>\n",
              "      </button>\n",
              "      \n",
              "  <style>\n",
              "    .colab-df-container {\n",
              "      display:flex;\n",
              "      flex-wrap:wrap;\n",
              "      gap: 12px;\n",
              "    }\n",
              "\n",
              "    .colab-df-convert {\n",
              "      background-color: #E8F0FE;\n",
              "      border: none;\n",
              "      border-radius: 50%;\n",
              "      cursor: pointer;\n",
              "      display: none;\n",
              "      fill: #1967D2;\n",
              "      height: 32px;\n",
              "      padding: 0 0 0 0;\n",
              "      width: 32px;\n",
              "    }\n",
              "\n",
              "    .colab-df-convert:hover {\n",
              "      background-color: #E2EBFA;\n",
              "      box-shadow: 0px 1px 2px rgba(60, 64, 67, 0.3), 0px 1px 3px 1px rgba(60, 64, 67, 0.15);\n",
              "      fill: #174EA6;\n",
              "    }\n",
              "\n",
              "    [theme=dark] .colab-df-convert {\n",
              "      background-color: #3B4455;\n",
              "      fill: #D2E3FC;\n",
              "    }\n",
              "\n",
              "    [theme=dark] .colab-df-convert:hover {\n",
              "      background-color: #434B5C;\n",
              "      box-shadow: 0px 1px 3px 1px rgba(0, 0, 0, 0.15);\n",
              "      filter: drop-shadow(0px 1px 2px rgba(0, 0, 0, 0.3));\n",
              "      fill: #FFFFFF;\n",
              "    }\n",
              "  </style>\n",
              "\n",
              "      <script>\n",
              "        const buttonEl =\n",
              "          document.querySelector('#df-49e95a60-ac78-4db0-a719-5e9e30916eb5 button.colab-df-convert');\n",
              "        buttonEl.style.display =\n",
              "          google.colab.kernel.accessAllowed ? 'block' : 'none';\n",
              "\n",
              "        async function convertToInteractive(key) {\n",
              "          const element = document.querySelector('#df-49e95a60-ac78-4db0-a719-5e9e30916eb5');\n",
              "          const dataTable =\n",
              "            await google.colab.kernel.invokeFunction('convertToInteractive',\n",
              "                                                     [key], {});\n",
              "          if (!dataTable) return;\n",
              "\n",
              "          const docLinkHtml = 'Like what you see? Visit the ' +\n",
              "            '<a target=\"_blank\" href=https://colab.research.google.com/notebooks/data_table.ipynb>data table notebook</a>'\n",
              "            + ' to learn more about interactive tables.';\n",
              "          element.innerHTML = '';\n",
              "          dataTable['output_type'] = 'display_data';\n",
              "          await google.colab.output.renderOutput(dataTable, element);\n",
              "          const docLink = document.createElement('div');\n",
              "          docLink.innerHTML = docLinkHtml;\n",
              "          element.appendChild(docLink);\n",
              "        }\n",
              "      </script>\n",
              "    </div>\n",
              "  </div>\n",
              "  "
            ]
          },
          "metadata": {},
          "execution_count": 91
        }
      ]
    },
    {
      "cell_type": "code",
      "source": [
        "print(\"Total samples:\", len(df))"
      ],
      "metadata": {
        "colab": {
          "base_uri": "https://localhost:8080/"
        },
        "id": "QQcW9JSUT11y",
        "outputId": "1ced2e13-da85-4e07-810f-b7e5643bb955"
      },
      "execution_count": 92,
      "outputs": [
        {
          "output_type": "stream",
          "name": "stdout",
          "text": [
            "Total samples: 9\n"
          ]
        }
      ]
    },
    {
      "cell_type": "markdown",
      "source": [
        "**PRINT PARTICULAR ROWS AND COLUMN**"
      ],
      "metadata": {
        "id": "9rouEdMSosQl"
      }
    },
    {
      "cell_type": "code",
      "source": [
        "print(\"Partial data\\n\", df.iloc[0:4, 0:3])"
      ],
      "metadata": {
        "colab": {
          "base_uri": "https://localhost:8080/"
        },
        "id": "XKY7V5sfUGu8",
        "outputId": "7449a180-f4c3-4722-bbfe-65541ca058fb"
      },
      "execution_count": 93,
      "outputs": [
        {
          "output_type": "stream",
          "name": "stdout",
          "text": [
            "Partial data\n",
            "    Region  Age    Income\n",
            "0  Region  Age    Income\n",
            "1   India   49  86400.00\n",
            "2  Brazil   32  57600.00\n",
            "3     USA   35  64800.00\n"
          ]
        }
      ]
    },
    {
      "cell_type": "markdown",
      "source": [
        "**TARGETS**"
      ],
      "metadata": {
        "id": "-oxLKJgBtXy0"
      }
    },
    {
      "cell_type": "code",
      "source": [
        "targets = df['Region'].astype('category') "
      ],
      "metadata": {
        "id": "j_CXOsoKUMub"
      },
      "execution_count": 94,
      "outputs": []
    },
    {
      "cell_type": "code",
      "source": [
        "label_color = ['red' if i=='ckd' else 'green' for i in targets] \n",
        "print(label_color[0:3], label_color[-3:-1])"
      ],
      "metadata": {
        "colab": {
          "base_uri": "https://localhost:8080/"
        },
        "id": "1SeSjQFdVEQa",
        "outputId": "b90e3d46-7d24-49c6-c96a-dc89ad876ce8"
      },
      "execution_count": 95,
      "outputs": [
        {
          "output_type": "stream",
          "name": "stdout",
          "text": [
            "['green', 'green', 'green'] ['green', 'green']\n"
          ]
        }
      ]
    },
    {
      "cell_type": "markdown",
      "source": [
        "**CATEGORICAL**"
      ],
      "metadata": {
        "id": "AT4XYVqDtdiZ"
      }
    },
    {
      "cell_type": "code",
      "source": [
        "categorical_ = ['Age','Online Shopper']"
      ],
      "metadata": {
        "id": "XWrLZzizVL-K"
      },
      "execution_count": 96,
      "outputs": []
    },
    {
      "cell_type": "code",
      "source": [
        "df = df.drop(labels=['Region'], axis=1)"
      ],
      "metadata": {
        "id": "AnDbC1x4Vo8R"
      },
      "execution_count": 97,
      "outputs": []
    },
    {
      "cell_type": "code",
      "source": [
        "df.drop(labels=categorical_, axis=1, inplace=True)"
      ],
      "metadata": {
        "id": "nB4o8daQV3V6"
      },
      "execution_count": 98,
      "outputs": []
    },
    {
      "cell_type": "markdown",
      "source": [
        "**DEPENDENT AND INDEPENDENT VARIABLES**"
      ],
      "metadata": {
        "id": "S5bU81sqtJXC"
      }
    },
    {
      "cell_type": "code",
      "source": [
        "Dataset = pd.read_csv(\"/content/drive/MyDrive/Colab Notebooks/DataPreprocessing.csv\")\n",
        "# importing an array of features\n",
        "x = Dataset.iloc[:, :-1].values \n",
        "# importing an array of dependent variable\n",
        "y = Dataset.iloc[:, -1].values"
      ],
      "metadata": {
        "id": "YGQIBZrcfW5Q"
      },
      "execution_count": 99,
      "outputs": []
    },
    {
      "cell_type": "code",
      "source": [
        "print(x)"
      ],
      "metadata": {
        "colab": {
          "base_uri": "https://localhost:8080/"
        },
        "id": "Q26lj1GWfiAX",
        "outputId": "16e7e747-dd02-478a-8942-a2abb216d449"
      },
      "execution_count": 100,
      "outputs": [
        {
          "output_type": "stream",
          "name": "stdout",
          "text": [
            "[['India' 49.0 86400.0]\n",
            " ['Brazil' 32.0 57600.0]\n",
            " ['USA' 35.0 64800.0]\n",
            " ['Brazil' 43.0 73200.0]\n",
            " ['USA' 45.0 nan]\n",
            " ['India' 40.0 69600.0]\n",
            " ['Brazil' nan 62400.0]\n",
            " ['India' 53.0 94800.0]\n",
            " ['USA' 55.0 99600.0]\n",
            " ['India' 42.0 80400.0]]\n"
          ]
        }
      ]
    },
    {
      "cell_type": "code",
      "source": [
        "print(y)"
      ],
      "metadata": {
        "colab": {
          "base_uri": "https://localhost:8080/"
        },
        "id": "UwJMZrERfoyn",
        "outputId": "8f80ed1e-9dd7-4152-e21b-132ee006a801"
      },
      "execution_count": 101,
      "outputs": [
        {
          "output_type": "stream",
          "name": "stdout",
          "text": [
            "['No' 'Yes' 'No' 'No' 'Yes' 'Yes' 'No' 'Yes' 'No' 'Yes']\n"
          ]
        }
      ]
    },
    {
      "cell_type": "markdown",
      "source": [
        "**REPLACE THE MISSING VALUES**"
      ],
      "metadata": {
        "id": "1o0tfoGHs-wi"
      }
    },
    {
      "cell_type": "code",
      "source": [
        "from sklearn.impute import SimpleImputer\n",
        "\n",
        "imputa = SimpleImputer(missing_values = np.nan, strategy = 'mean')\n",
        "\n",
        "imputa.fit(x[:, 1:3])\n",
        "\n",
        "x[:, 1:3] = imputa.transform(x[:, 1:3])"
      ],
      "metadata": {
        "id": "d_HfKP3mh5fU"
      },
      "execution_count": 102,
      "outputs": []
    },
    {
      "cell_type": "code",
      "source": [
        "print(x)"
      ],
      "metadata": {
        "colab": {
          "base_uri": "https://localhost:8080/"
        },
        "id": "1ulE3Mklh_G2",
        "outputId": "bc1c4401-9f98-429c-8477-b7622e62fc5c"
      },
      "execution_count": 103,
      "outputs": [
        {
          "output_type": "stream",
          "name": "stdout",
          "text": [
            "[['India' 49.0 86400.0]\n",
            " ['Brazil' 32.0 57600.0]\n",
            " ['USA' 35.0 64800.0]\n",
            " ['Brazil' 43.0 73200.0]\n",
            " ['USA' 45.0 76533.33333333333]\n",
            " ['India' 40.0 69600.0]\n",
            " ['Brazil' 43.77777777777778 62400.0]\n",
            " ['India' 53.0 94800.0]\n",
            " ['USA' 55.0 99600.0]\n",
            " ['India' 42.0 80400.0]]\n"
          ]
        }
      ]
    },
    {
      "cell_type": "markdown",
      "source": [
        "**ENCODING CATEGORICAL DATA**"
      ],
      "metadata": {
        "id": "Uep1PioIs2QM"
      }
    },
    {
      "cell_type": "code",
      "source": [
        "from sklearn.compose import ColumnTransformer\n",
        "from sklearn.preprocessing import OneHotEncoder\n",
        "ct = ColumnTransformer(transformers=[('encoder', OneHotEncoder(), [0])], remainder= 'passthrough')\n",
        "x = np.array(ct.fit_transform(x))"
      ],
      "metadata": {
        "id": "JfKLVqE8gvBf"
      },
      "execution_count": 104,
      "outputs": []
    },
    {
      "cell_type": "code",
      "source": [
        "print(x)"
      ],
      "metadata": {
        "colab": {
          "base_uri": "https://localhost:8080/"
        },
        "id": "4bkiPgcsgwqW",
        "outputId": "2f596d73-76f2-4da4-ae25-747d2ed47435"
      },
      "execution_count": 105,
      "outputs": [
        {
          "output_type": "stream",
          "name": "stdout",
          "text": [
            "[[0.0 1.0 0.0 49.0 86400.0]\n",
            " [1.0 0.0 0.0 32.0 57600.0]\n",
            " [0.0 0.0 1.0 35.0 64800.0]\n",
            " [1.0 0.0 0.0 43.0 73200.0]\n",
            " [0.0 0.0 1.0 45.0 76533.33333333333]\n",
            " [0.0 1.0 0.0 40.0 69600.0]\n",
            " [1.0 0.0 0.0 43.77777777777778 62400.0]\n",
            " [0.0 1.0 0.0 53.0 94800.0]\n",
            " [0.0 0.0 1.0 55.0 99600.0]\n",
            " [0.0 1.0 0.0 42.0 80400.0]]\n"
          ]
        }
      ]
    },
    {
      "cell_type": "code",
      "source": [
        "from sklearn.preprocessing import LabelEncoder\n",
        "le = LabelEncoder()\n",
        "y = le.fit_transform(y)"
      ],
      "metadata": {
        "id": "6tFII3B-g0QO"
      },
      "execution_count": 106,
      "outputs": []
    },
    {
      "cell_type": "code",
      "source": [
        "print(y)"
      ],
      "metadata": {
        "colab": {
          "base_uri": "https://localhost:8080/"
        },
        "id": "PAgXJtcig4ku",
        "outputId": "1e702dd3-e527-4a5a-afb5-231feab36e77"
      },
      "execution_count": 107,
      "outputs": [
        {
          "output_type": "stream",
          "name": "stdout",
          "text": [
            "[0 1 0 0 1 1 0 1 0 1]\n"
          ]
        }
      ]
    },
    {
      "cell_type": "markdown",
      "source": [
        "**TRAINING AND TESTING**"
      ],
      "metadata": {
        "id": "7vesss6jss7D"
      }
    },
    {
      "cell_type": "code",
      "source": [
        "from sklearn.model_selection import train_test_split\n",
        "x_train, x_test, y_train, y_test = train_test_split(x, y, test_size = 0.2,random_state= 1)"
      ],
      "metadata": {
        "id": "mIsjbDgffsZv"
      },
      "execution_count": 108,
      "outputs": []
    },
    {
      "cell_type": "code",
      "source": [
        "print(x_train)"
      ],
      "metadata": {
        "colab": {
          "base_uri": "https://localhost:8080/"
        },
        "id": "W_WRg5OPf5q-",
        "outputId": "1f9600ec-f022-430d-a7db-4e8092e460c2"
      },
      "execution_count": 109,
      "outputs": [
        {
          "output_type": "stream",
          "name": "stdout",
          "text": [
            "[[1.0 0.0 0.0 43.77777777777778 62400.0]\n",
            " [0.0 0.0 1.0 45.0 76533.33333333333]\n",
            " [0.0 1.0 0.0 49.0 86400.0]\n",
            " [1.0 0.0 0.0 43.0 73200.0]\n",
            " [1.0 0.0 0.0 32.0 57600.0]\n",
            " [0.0 1.0 0.0 53.0 94800.0]\n",
            " [0.0 0.0 1.0 55.0 99600.0]\n",
            " [0.0 1.0 0.0 40.0 69600.0]]\n"
          ]
        }
      ]
    },
    {
      "cell_type": "code",
      "source": [
        "print(x_test)"
      ],
      "metadata": {
        "colab": {
          "base_uri": "https://localhost:8080/"
        },
        "id": "IvE0L4dff9uf",
        "outputId": "e5191289-8494-49df-8981-7e07144615e6"
      },
      "execution_count": 110,
      "outputs": [
        {
          "output_type": "stream",
          "name": "stdout",
          "text": [
            "[[0.0 0.0 1.0 35.0 64800.0]\n",
            " [0.0 1.0 0.0 42.0 80400.0]]\n"
          ]
        }
      ]
    },
    {
      "cell_type": "code",
      "source": [
        "print(y_train)"
      ],
      "metadata": {
        "colab": {
          "base_uri": "https://localhost:8080/"
        },
        "id": "qi4EIdstgDdu",
        "outputId": "bab2d148-45a0-4296-9941-ff3c7d812aa4"
      },
      "execution_count": 111,
      "outputs": [
        {
          "output_type": "stream",
          "name": "stdout",
          "text": [
            "[0 1 0 0 1 1 0 1]\n"
          ]
        }
      ]
    },
    {
      "cell_type": "code",
      "source": [
        "print(y_test)"
      ],
      "metadata": {
        "colab": {
          "base_uri": "https://localhost:8080/"
        },
        "id": "KkeCplndgHN2",
        "outputId": "16ec20ce-5ab0-473a-89f1-f9d0bdfd4ce3"
      },
      "execution_count": 112,
      "outputs": [
        {
          "output_type": "stream",
          "name": "stdout",
          "text": [
            "[0 1]\n"
          ]
        }
      ]
    },
    {
      "cell_type": "markdown",
      "source": [
        "**STANDARD SCALER**"
      ],
      "metadata": {
        "id": "zEa2-gOwslmq"
      }
    },
    {
      "cell_type": "code",
      "source": [
        "from sklearn.preprocessing import StandardScaler\n",
        "sc = StandardScaler()\n",
        "# we only aply the feature scaling on the features other than dummy variables.\n",
        "x_train[:, 3:] = sc.fit_transform(x_train[:, 3:])\n",
        "x_test[:, 3:] = sc.fit_transform(x_test[:, 3:])"
      ],
      "metadata": {
        "id": "p4Elrm1ShFAt"
      },
      "execution_count": 113,
      "outputs": []
    },
    {
      "cell_type": "code",
      "source": [
        "print(x_train)"
      ],
      "metadata": {
        "colab": {
          "base_uri": "https://localhost:8080/"
        },
        "id": "QbojYuhHhRCV",
        "outputId": "082e684e-a207-4660-e9ed-c6fdd0f9cec7"
      },
      "execution_count": 114,
      "outputs": [
        {
          "output_type": "stream",
          "name": "stdout",
          "text": [
            "[[1.0 0.0 0.0 -0.19159184384578545 -1.078125940841242]\n",
            " [0.0 0.0 1.0 -0.014117293757057777 -0.07013167641635393]\n",
            " [0.0 1.0 0.0 0.566708506533324 0.6335624327104554]\n",
            " [1.0 0.0 0.0 -0.30453019390224867 -0.30786617274297823]\n",
            " [1.0 0.0 0.0 -1.9018011447007988 -1.4204636155515815]\n",
            " [0.0 1.0 0.0 1.1475343068237058 1.2326533634535495]\n",
            " [0.0 0.0 1.0 1.4379472069688968 1.574991038163889]\n",
            " [0.0 1.0 0.0 -0.7401495441200351 -0.5646194287757329]]\n"
          ]
        }
      ]
    },
    {
      "cell_type": "code",
      "source": [
        "print(x_test)"
      ],
      "metadata": {
        "colab": {
          "base_uri": "https://localhost:8080/"
        },
        "id": "F7neYzWwhVs9",
        "outputId": "54e87d81-2457-4e80-cdfa-f83d6976da71"
      },
      "execution_count": 115,
      "outputs": [
        {
          "output_type": "stream",
          "name": "stdout",
          "text": [
            "[[0.0 0.0 1.0 -1.0 -1.0]\n",
            " [0.0 1.0 0.0 1.0 1.0]]\n"
          ]
        }
      ]
    },
    {
      "cell_type": "markdown",
      "source": [
        "**DATA REDUCTION USING PCA**"
      ],
      "metadata": {
        "id": "cqcBeD-ZsabL"
      }
    },
    {
      "cell_type": "code",
      "source": [
        "from sklearn.decomposition import PCA\n",
        "pca = PCA(n_components=2)"
      ],
      "metadata": {
        "id": "f6gU3SXrVbfs"
      },
      "execution_count": 116,
      "outputs": []
    },
    {
      "cell_type": "code",
      "source": [
        "pca.fit(x) \n",
        "T= pca.transform(x)"
      ],
      "metadata": {
        "id": "WHidI2xoha5V"
      },
      "execution_count": 117,
      "outputs": []
    },
    {
      "cell_type": "code",
      "source": [
        "T = pd.DataFrame(T)"
      ],
      "metadata": {
        "id": "rAM6-V1xirQ9"
      },
      "execution_count": 118,
      "outputs": []
    },
    {
      "cell_type": "code",
      "source": [
        "T.columns = ['PCA component 1', 'PCA component 2']"
      ],
      "metadata": {
        "id": "R1m6ezT_iwWU"
      },
      "execution_count": 119,
      "outputs": []
    },
    {
      "cell_type": "code",
      "source": [
        "T.plot.scatter(x='PCA component 1', y='PCA component 2', marker='o', alpha=0.7)"
      ],
      "metadata": {
        "colab": {
          "base_uri": "https://localhost:8080/",
          "height": 296
        },
        "id": "_ltVI5J0i3X9",
        "outputId": "0144f643-f109-47d9-9eda-76ce7e4f8173"
      },
      "execution_count": 120,
      "outputs": [
        {
          "output_type": "execute_result",
          "data": {
            "text/plain": [
              "<matplotlib.axes._subplots.AxesSubplot at 0x7f984ecd2a50>"
            ]
          },
          "metadata": {},
          "execution_count": 120
        },
        {
          "output_type": "display_data",
          "data": {
            "text/plain": [
              "<Figure size 432x288 with 1 Axes>"
            ],
            "image/png": "[encoded data removed]"
          },
          "metadata": {
            "needs_background": "light"
          }
        }
      ]
    },
    {
      "cell_type": "code",
      "source": [
        ""
      ],
      "metadata": {
        "id": "lbfUDnHpogTf"
      },
      "execution_count": null,
      "outputs": []
    }
  ]
}